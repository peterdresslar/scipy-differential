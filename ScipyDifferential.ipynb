{
 "cells": [
  {
   "cell_type": "markdown",
   "metadata": {},
   "source": [
    "# Differential Equation Solving with SciPy\n",
    "\n",
    "This notebook demonstrates the differences in differential equation solving techniques offered by the Python [SciPy](scipy.org) package. There are two primary approaches in SciPy:\n",
    "1. The older `scipy.integrate.odeint` function\n",
    "2. The newer `scipy.integrate.solve_ivp` function\n",
    "\n",
    "## Getting started\n",
    "\n",
    "To begin, we should mention that there is an accessible and comprehensive Python math text from UCBerkeley called [Python Numerical Methods](https://pythonnumericalmethods.studentorg.berkeley.edu/notebooks/Index.html). Chapter 22 is called \"[Ordinary Differential Equation - Initial Value Problems](https://pythonnumericalmethods.studentorg.berkeley.edu/notebooks/chapter22.00-ODE-Initial-Value-Problems.html),\" and it might be pointed out that the difference between the two is that Initial Value Problems supply starting conditions to the Ordinary Differential Equations so that they can be solved with a unique numerical functions.\n",
    "\n",
    "## The Lorenz System\n",
    "\n",
    "This example is adopted from the book chapter's [Problems](https://pythonnumericalmethods.studentorg.berkeley.edu/notebooks/chapter22.08-Summary-and-Problems.html#problems) section.\n",
    "\n",
    "The Lorenz system is a set of three coupled, nonlinear differential equations:\n",
    "\n",
    "$$\\begin{align}\n",
    "\\frac{dx}{dt} &= \\sigma(y - x) \\\\\n",
    "\\frac{dy}{dt} &= x(\\rho - z) - y \\\\\n",
    "\\frac{dz}{dt} &= xy - \\beta z\n",
    "\\end{align}$$\n",
    "\n",
    "Where:\n",
    "- $\\sigma$ (sigma) is the Prandtl number\n",
    "- $\\rho$ (rho) is the Rayleigh number\n",
    "- $\\beta$ (beta) is related to the physical dimensions of the system\n",
    "\n",
    "The classic parameter values are $\\sigma = 10$, $\\rho = 28$, and $\\beta = 8/3$, which produce the famous \"butterfly\" strange attractor.\n",
    "\n",
    "We will set up our system and conditions below. Also, we'll put this here: 🦋"
   ]
  },
  {
   "cell_type": "code",
   "execution_count": 2,
   "metadata": {},
   "outputs": [],
   "source": [
    "sigma = 10\n",
    "rho = 28\n",
    "beta = 8/3\n",
    "\n",
    "def lorenz(S, t):\n",
    "    x, y, z = S\n",
    "    dxdt = sigma * (y - x)\n",
    "    dydt = x * (rho - z) - y\n",
    "    dzdt = x * y - beta * z\n",
    "    return [dxdt, dydt, dzdt]\n",
    "\n",
    "# Initial conditions\n",
    "S0 = [1.0, 0.0, 0.0]  # classic starting point\n",
    "\n",
    "# Discretize time\n",
    "t = np.linspace(0, 40, 10000)"
   ]
  },
  {
   "cell_type": "code",
   "execution_count": 3,
   "metadata": {},
   "outputs": [],
   "source": [
    "# We will almost certainly need these three standards:\n",
    "\n",
    "import numpy as np\n",
    "from scipy.integrate import odeint\n",
    "import matplotlib.pyplot as plt\n",
    "\n"
   ]
  },
  {
   "cell_type": "markdown",
   "metadata": {},
   "source": [
    "## `odeint`\n",
    "\n",
    "Starting with `odeint`, the older of the two solutions scipy offers, we might point out that the package always operates using the LSODA solver written in FORTRAN at [Lawrence Livermore NL](https://computing.llnl.gov/projects/odepack). The L in LSODA stands for Livermore, in fact, a bit of trivia that can be gleaned from the [excellent README file](https://github.com/scipy/scipy/tree/main/scipy/integrate/odepack) for ODEPACK solvers at the scipy repo.\n",
    "\n",
    "Let's work with Lorenz in `odeint`."
   ]
  },
  {
   "cell_type": "code",
   "execution_count": 4,
   "metadata": {},
   "outputs": [
    {
     "ename": "ValueError",
     "evalue": "too many values to unpack (expected 2)",
     "output_type": "error",
     "traceback": [
      "\u001b[0;31m---------------------------------------------------------------------------\u001b[0m",
      "\u001b[0;31mValueError\u001b[0m                                Traceback (most recent call last)",
      "Cell \u001b[0;32mIn[4], line 1\u001b[0m\n\u001b[0;32m----> 1\u001b[0m sol, info \u001b[38;5;241m=\u001b[39m odeint(lorenz, state0, t)\n\u001b[1;32m      3\u001b[0m \u001b[38;5;28mprint\u001b[39m(\u001b[38;5;124m\"\u001b[39m\u001b[38;5;124mSolution shape:\u001b[39m\u001b[38;5;124m\"\u001b[39m, sol\u001b[38;5;241m.\u001b[39mshape)\n\u001b[1;32m      4\u001b[0m \u001b[38;5;28mprint\u001b[39m(\u001b[38;5;124m\"\u001b[39m\u001b[38;5;124mSolution:\u001b[39m\u001b[38;5;124m\"\u001b[39m, sol)\n",
      "\u001b[0;31mValueError\u001b[0m: too many values to unpack (expected 2)"
     ]
    }
   ],
   "source": [
    "\n",
    "\n",
    "S, info = odeint(lorenz, state0, t)\n",
    "\n",
    "print(\"Solution shape:\", sol.shape)\n",
    "print(\"Solution:\", sol)\n",
    "print(\"Info:\", info)\n"
   ]
  },
  {
   "cell_type": "markdown",
   "metadata": {},
   "source": [
    "### Notes\n",
    "\n",
    "\n",
    "### References\n",
    "\n",
    "Kong, Q., Siauw, T., & Bayen, A. M. (2021). *Python Programming And Numerical Methods: A Guide For Engineers And Scientists*. Academic Press. Available online at: https://pythonnumericalmethods.studentorg.berkeley.edu/notebooks/\n",
    "\n",
    "Lorenz, E. N. (1963). Deterministic nonperiodic flow. *Journal of the Atmospheric Sciences*, 20(2), 130-141.\n",
    "\n",
    "SciPy Documentation. (n.d.). Integration and ODEs (`scipy.integrate`). Retrieved from https://docs.scipy.org/doc/scipy/reference/tutorial/integrate.html"
   ]
  }
 ],
 "metadata": {
  "kernelspec": {
   "display_name": "Python 3",
   "language": "python",
   "name": "python3"
  },
  "language_info": {
   "codemirror_mode": {
    "name": "ipython",
    "version": 3
   },
   "file_extension": ".py",
   "mimetype": "text/x-python",
   "name": "python",
   "nbconvert_exporter": "python",
   "pygments_lexer": "ipython3",
   "version": "3.12.8"
  }
 },
 "nbformat": 4,
 "nbformat_minor": 2
}
