{
 "cells": [
  {
   "cell_type": "markdown",
   "metadata": {},
   "source": [
    "# Always Use 1, 100, 100\n",
    "\n",
    "You don't have to use 1, 100, 100.[^1] \n",
    "\n",
    "But you do need to know all the ways you are messing up with `np.linspace`."
   ]
  },
  {
   "cell_type": "code",
   "execution_count": 18,
   "metadata": {},
   "outputs": [
    {
     "name": "stdout",
     "output_type": "stream",
     "text": [
      "🦗 🦗 🦗 🦗 🦗 🦗\n",
      "np.linspace(1, 100, 100): [  1.   2.   3.   4.   5.   6.   7.   8.   9.  10.  11.  12.  13.  14.\n",
      "  15.  16.  17.  18.  19.  20.  21.  22.  23.  24.  25.  26.  27.  28.\n",
      "  29.  30.  31.  32.  33.  34.  35.  36.  37.  38.  39.  40.  41.  42.\n",
      "  43.  44.  45.  46.  47.  48.  49.  50.  51.  52.  53.  54.  55.  56.\n",
      "  57.  58.  59.  60.  61.  62.  63.  64.  65.  66.  67.  68.  69.  70.\n",
      "  71.  72.  73.  74.  75.  76.  77.  78.  79.  80.  81.  82.  83.  84.\n",
      "  85.  86.  87.  88.  89.  90.  91.  92.  93.  94.  95.  96.  97.  98.\n",
      "  99. 100.]\n"
     ]
    },
    {
     "data": {
      "text/plain": [
       "''"
      ]
     },
     "execution_count": 18,
     "metadata": {},
     "output_type": "execute_result"
    }
   ],
   "source": [
    "import numpy as np\n",
    "\n",
    "START = 0\n",
    "END = 100\n",
    "crickets = 1  # cricknitializer\n",
    "\n",
    "for num in range(2, 101):\n",
    "    seq = np.linspace(START, END, num)\n",
    "    if seq[1] - seq[0] == 1:\n",
    "        crickets = 0\n",
    "        print(f\"np.linspace({START}, {END}, {num}): {np.linspace(START, END, num)}\")\n",
    "print(\"🦗 🦗 🦗 🦗 🦗 🦗\") if crickets else \"\"\n",
    "\n",
    "\n",
    "OTHER_START = 1\n",
    "OTHER_END = 100\n",
    "crickets = 1  # recricknitializer\n",
    "\n",
    "for num in range(2, 101):\n",
    "    other_seq = np.linspace(OTHER_START, OTHER_END, num)\n",
    "    if other_seq[1] - other_seq[0] == 1:\n",
    "        crickets = 0\n",
    "        print(f\"np.linspace({OTHER_START}, {OTHER_END}, {num}): {np.linspace(OTHER_START, OTHER_END, num)}\")\n",
    "print(\"🦗 🦗 🦗 🦗 🦗 🦗\") if crickets else \"\"\n",
    "\n"
   ]
  },
  {
   "cell_type": "markdown",
   "metadata": {},
   "source": [
    "[^1] when attempting to model discrete time, for instance"
   ]
  }
 ],
 "metadata": {
  "kernelspec": {
   "display_name": "Python 3",
   "language": "python",
   "name": "python3"
  },
  "language_info": {
   "codemirror_mode": {
    "name": "ipython",
    "version": 3
   },
   "file_extension": ".py",
   "mimetype": "text/x-python",
   "name": "python",
   "nbconvert_exporter": "python",
   "pygments_lexer": "ipython3",
   "version": "3.12.8"
  }
 },
 "nbformat": 4,
 "nbformat_minor": 2
}
