{
 "cells": [
  {
   "cell_type": "code",
   "execution_count": null,
   "metadata": {
    "vscode": {
     "languageId": "plaintext"
    }
   },
   "outputs": [],
   "source": [
    "<p align=\"center\">🦋 🦋 🦋</p>\n",
    "\n",
    "## The Lorenz System: WORK IN PROGRESS\n",
    "\n",
    "As we move forward, let's recall that the cosine ODE we just explored was *not* state dependent. \n",
    "\n",
    "A direct result of that is that errors do not compound over time. But, many ODEs used in IVP solutions are state dependent. Depending on for how \"long\" the IVP is meant to process, that could be a big difference.\n",
    "\n",
    "And, as we just saw, not all implementations are alike.\n",
    "\n",
    "<p align=\"center\">. . .</p>\n",
    "\n",
    "Back to the books: This example is adopted from the book chapter's [Problems](https://pythonnumericalmethods.studentorg.berkeley.edu/notebooks/chapter22.08-Summary-and-Problems.html#problems) section.\n",
    "\n",
    "The Lorenz system is a set of three coupled, nonlinear differential equations:\n",
    "\n",
    "$$\\begin{align}\n",
    "\\frac{dx}{dt} &= \\sigma(y - x) \\\\\n",
    "\\frac{dy}{dt} &= x(\\rho - z) - y \\\\\n",
    "\\frac{dz}{dt} &= xy - \\beta z\n",
    "\\end{align}$$\n",
    "\n",
    "Where:\n",
    "- $\\sigma$ (sigma) is the Prandtl number\n",
    "- $\\rho$ (rho) is the Rayleigh number\n",
    "- $\\beta$ (beta) is related to the physical dimensions of the system\n",
    "\n",
    "The homework problem suggests the initial values $\\sigma = 10$, $\\rho = 28$, and $\\beta = 8/3$, which produce the famous \"butterfly\" strange attractor.\n",
    "\n",
    "We will set up our system and conditions below."
   ]
  },
  {
   "cell_type": "code",
   "execution_count": null,
   "metadata": {},
   "outputs": [],
   "source": [
    "sigma = 10\n",
    "rho = 28\n",
    "beta = 8/3"
   ]
  }
 ],
 "metadata": {
  "language_info": {
   "name": "python"
  }
 },
 "nbformat": 4,
 "nbformat_minor": 2
}
